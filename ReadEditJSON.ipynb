{
 "cells": [
  {
   "cell_type": "markdown",
   "source": [
    "# Python program to read and edit DepthkitJson file\n"
   ],
   "metadata": {
    "collapsed": false,
    "pycharm": {
     "name": "#%% md\n"
    }
   }
  },
  {
   "cell_type": "code",
   "execution_count": 25,
   "outputs": [],
   "source": [
    "import json\n",
    "import os\n",
    "import uuid"
   ],
   "metadata": {
    "collapsed": false,
    "pycharm": {
     "name": "#%%\n"
    }
   }
  },
  {
   "cell_type": "code",
   "execution_count": null,
   "outputs": [],
   "source": [
    "\n",
    "\n",
    "def printCrops(name, cropinfo):\n",
    "    print(name + str(cropinfo[0]))\n",
    "    print(name + str(cropinfo[1]))\n",
    "    print(name + str(cropinfo[2]))\n",
    "    print(name + str(cropinfo[3]))\n",
    "\n",
    "\n",
    "def SetDepth(min, max, comp):\n",
    "    depthRange = [    0.25,    8.20 ]\n",
    "    comp['depthRange'] = []\n",
    "\n",
    "\n",
    "def changeRelativePath (stream):\n",
    "    a2 = '000018501312'\n",
    "    a1 = \"000411100112\"\n",
    "    beauty = \"000474601612\"\n",
    "    for i in stream[a1]:\n",
    "        print(i['assetPath'])\n",
    "\n",
    "def changeRefinementParamenters (params):\n",
    "    params['colorSigma'] = 0.7\n",
    "    params['depthSigma'] = 0.5\n",
    "    params['kernelSize'] = 6\n",
    "    params['pyramidLevels'] = 6\n",
    "    params['reductionFactor'] = 2\n",
    "    params['spatialSigma'] = 0.5\n",
    "\n",
    "    return params\n",
    "\n",
    "def changeRefinementParamentersBeauty (params):\n",
    "    params['colorSigma'] = 0.5\n",
    "    params['depthSigma'] = 0.5\n",
    "    params['kernelSize'] = 5\n",
    "    params['pyramidLevels'] = 5\n",
    "    params['reductionFactor'] = 2\n",
    "    params['spatialSigma'] = 0.5\n",
    "\n",
    "    return params\n",
    "\n",
    "def SetDepthRange(comp, range):\n",
    "    comp['depthRange'] = range\n",
    "\n",
    "    return comp"
   ],
   "metadata": {
    "collapsed": false,
    "pycharm": {
     "name": "#%%\n"
    }
   }
  },
  {
   "cell_type": "code",
   "execution_count": null,
   "outputs": [],
   "source": [
    "pathToBeautyKeys =  \"E:\\MakropolOptagelseProjekt\\Beauty_key\"\n",
    "\n",
    "def findMask(pathtoKey, scenename):\n",
    "    folderList = os.listdir(pathtoKey)\n",
    "    print(folderList)\n",
    "    retvalue = scenename in folderList\n",
    "    print(retvalue)\n",
    "    if retvalue is True:\n",
    "        #Find mp4 in folder\n",
    "        folderList = os.listdir(os.path.join(pathtoKey, scenename))\n",
    "        pathtoFolder = os.path.join(pathtoKey,scenename)\n",
    "        print(pathtoFolder)\n",
    "        pathToFile = os.path.join(pathtoFolder,folderList[0])\n",
    "        print(pathToFile)\n",
    "\n",
    "        return\n",
    "        #Find absolute path to mp4 in folder\n",
    "\n",
    "def addMaskToStream(stream, pathToMask):\n",
    "    print(len(stream))\n",
    "    templateStream = stream[0]\n",
    "    stream.append(templateStream)\n",
    "    print(len(stream))\n",
    "    return stream\n",
    "\n",
    "findMask(pathToBeautyKeys, \"Beauty_JosefGL_Sc22-23_Sh02_Main_t04.mp4\")"
   ],
   "metadata": {
    "collapsed": false,
    "pycharm": {
     "name": "#%%\n"
    }
   }
  },
  {
   "cell_type": "markdown",
   "source": [
    "## DepthKit Settings Definitions"
   ],
   "metadata": {
    "collapsed": false
   }
  },
  {
   "cell_type": "code",
   "execution_count": 23,
   "outputs": [
    {
     "name": "stdout",
     "output_type": "stream",
     "text": [
      "JosefGL_Ss19-20_main_Sh02_t05_03_16_04_45_49\\sensor0\\sensor.mp4\n",
      "JosefGL_Ss19-20_main_Sh02_t05_03_16_04_45_49\\sensor0\\depth\\frame_v2_millis_%10T_%5F.png\n",
      "E:\\MakropolOptagelseProjekt\\NE_Edit_ACast_edit_0_BEU_GRATED\\Beauty_JosefGL_Sc19-20_Sh02_Main_t05.mp4\n",
      "4\n",
      "5\n",
      "JosefGl_Sc11_main_Sh_02_t0503_16_01_03_20\\sensor0\\sensor.mp4\n",
      "JosefGl_Sc11_main_Sh_02_t0503_16_01_03_20\\sensor0\\depth\\frame_v2_millis_%10T_%5F.png\n",
      "E:\\MakropolOptagelseProjekt\\NE_Edit_ACast_edit_0_BEU_GRATED\\Beauty_JosefGL_Sc11_Sh02_Main_t05.mp4\n",
      "4\n",
      "5\n",
      "JosefGl_Sc13-17_main_Sh_02_t0603_16_02_53_44\\sensor0\\sensor.mp4\n",
      "JosefGl_Sc13-17_main_Sh_02_t0603_16_02_53_44\\sensor0\\depth\\frame_v2_millis_%10T_%5F.png\n",
      "E:\\MakropolOptagelseProjekt\\NE_Edit_ACast_edit_0_BEU_GRATED\\Beauty_JosefGL_Sc13-18_Sh02_Main_t06.mp4\n",
      "4\n",
      "5\n",
      "SonyBeuatyTest_03_13_15_32_01\\_sensor\\sensor01\\sensor01.mp4\n",
      "SonyBeuatyTest_03_13_15_32_01\\_sensor\\depth\\frame_v2_millis_%10T_%5F.png\n",
      "D:\\EndOfNightCapture\\beuaty.mp4\n",
      "3\n",
      "4\n",
      "SonyBeuatyTest_03_13_15_33_39\\_sensor\\sensor01\\sensor01.mp4\n",
      "SonyBeuatyTest_03_13_15_33_39\\_sensor\\depth\\frame_v2_millis_%10T_%5F.png\n",
      "D:\\EndOfNightCapture\\beuaty.mp4\n",
      "3\n",
      "4\n"
     ]
    }
   ],
   "source": [
    "\n",
    "filename = 'dkproject.json'\n",
    "\n",
    "Hresolution = 1920\n",
    "VResolution = 2160\n",
    "\n",
    "leftAngle = \"Azure Kinect 000018501312\"\n",
    "leftAngleCropSettings =  [0.0791666666666667,#0.07894736528396606,\n",
    "                          0.16194331645965576,\n",
    "                          0.80364583333,#0.8002699017524719,\n",
    "                          0.7550607323646545]\n",
    "leftAngleDepthRange = [0.9994735717773438, 2.254509210586548]\n",
    "rightAngle = \"Azure Kinect 000411100112\"\n",
    "rightAngleCropSettings =  [\n",
    "                        0.1458333333333333,#0.14580291509628296,\n",
    "                        0.13873158395290375,\n",
    "                        0.64583333333,#0.6456950902938843,\n",
    "                        0.6851550340652466\n",
    "                    ]\n",
    "rightAngleDepthRange = [1.152458906173706, 2.5968258380889893]\n",
    "beauty = \"Azure Kinect 000474601612\"\n",
    "beautycropSettings = [\n",
    "                        0.0,\n",
    "                        0.1435185185185185,\n",
    "                        1.0,\n",
    "                        0.8564814814814815\n",
    "                    ]\n",
    "beautyAngleDepthRange = [1.2500396966934204, 2.4476566314697266]\n",
    "\n",
    "a2 = '000018501312'\n",
    "a1 = \"000411100112\"\n",
    "b = \"000474601612\"\n",
    "\n",
    "\n",
    "cropDataScene = \"JosefGL_Sc01_Main_Sh02_t0903_15_01_52_30\""
   ],
   "metadata": {
    "collapsed": false,
    "pycharm": {
     "name": "#%%\n"
    }
   }
  },
  {
   "cell_type": "markdown",
   "source": [
    "## DepthKit JSON Load and Edit"
   ],
   "metadata": {
    "collapsed": false
   }
  },
  {
   "cell_type": "code",
   "execution_count": 24,
   "outputs": [
    {
     "name": "stdout",
     "output_type": "stream",
     "text": [
      "JosefGL_Ss19-20_main_Sh02_t05_03_16_04_45_49\\sensor0\\sensor.mp4\n",
      "JosefGL_Ss19-20_main_Sh02_t05_03_16_04_45_49\\sensor0\\depth\\frame_v2_millis_%10T_%5F.png\n",
      "E:\\MakropolOptagelseProjekt\\NE_Edit_ACast_edit_0_BEU_GRATED\\Beauty_JosefGL_Sc19-20_Sh02_Main_t05.mp4\n",
      "4\n",
      "5\n",
      "JosefGl_Sc11_main_Sh_02_t0503_16_01_03_20\\sensor0\\sensor.mp4\n",
      "JosefGl_Sc11_main_Sh_02_t0503_16_01_03_20\\sensor0\\depth\\frame_v2_millis_%10T_%5F.png\n",
      "E:\\MakropolOptagelseProjekt\\NE_Edit_ACast_edit_0_BEU_GRATED\\Beauty_JosefGL_Sc11_Sh02_Main_t05.mp4\n",
      "4\n",
      "5\n",
      "JosefGl_Sc13-17_main_Sh_02_t0603_16_02_53_44\\sensor0\\sensor.mp4\n",
      "JosefGl_Sc13-17_main_Sh_02_t0603_16_02_53_44\\sensor0\\depth\\frame_v2_millis_%10T_%5F.png\n",
      "E:\\MakropolOptagelseProjekt\\NE_Edit_ACast_edit_0_BEU_GRATED\\Beauty_JosefGL_Sc13-18_Sh02_Main_t06.mp4\n",
      "4\n",
      "5\n",
      "SonyBeuatyTest_03_13_15_32_01\\_sensor\\sensor01\\sensor01.mp4\n",
      "SonyBeuatyTest_03_13_15_32_01\\_sensor\\depth\\frame_v2_millis_%10T_%5F.png\n",
      "D:\\EndOfNightCapture\\beuaty.mp4\n",
      "3\n",
      "4\n",
      "SonyBeuatyTest_03_13_15_33_39\\_sensor\\sensor01\\sensor01.mp4\n",
      "SonyBeuatyTest_03_13_15_33_39\\_sensor\\depth\\frame_v2_millis_%10T_%5F.png\n",
      "D:\\EndOfNightCapture\\beuaty.mp4\n",
      "3\n",
      "4\n"
     ]
    }
   ],
   "source": [
    "with open(filename, 'r') as f:\n",
    "    # add, remove, modify content\n",
    "    # returns JSON object as\n",
    "    # a dictionary\n",
    "    data = json.load(f)\n",
    "\n",
    "\n",
    "    # Iterating through the json\n",
    "    # list\n",
    "    for i in data['recordings']:\n",
    "\n",
    "        streams = data['recordings'][i]['streams']\n",
    "\n",
    "        if b in streams:\n",
    "            #print(len(streams[b]))\n",
    "            if len(streams[b]) > 2:\n",
    "                print(streams[b][0][\"assetPath\"])\n",
    "                print(streams[b][1][\"assetPath\"])\n",
    "                print(streams[b][2][\"assetPath\"])\n",
    "                addMaskToStream(streams[b], \"test\")\n",
    "\n",
    "        #Composition Changes\n",
    "\n",
    "        boolean_value = bool('true')\n",
    "        comps = data['recordings'][i]['compositions']\n",
    "\n",
    "        #print(\"     \"+i)\n",
    "\n",
    "        if leftAngle in comps:\n",
    "            comps[leftAngle]['enableRefinement'] = boolean_value\n",
    "            comps[leftAngle]['crop'] = leftAngleCropSettings\n",
    "            comps[leftAngle][\"refinementParameters\"] = changeRefinementParamenters(comps[leftAngle][\"refinementParameters\"])\n",
    "            comps[leftAngle][\"depthRange\"] = leftAngleDepthRange\n",
    "        if rightAngle in comps:\n",
    "            comps[rightAngle]['enableRefinement'] = boolean_value\n",
    "            comps[rightAngle]['crop'] = rightAngleCropSettings\n",
    "            comps[rightAngle][\"refinementParameters\"] = changeRefinementParamenters(comps[rightAngle][\"refinementParameters\"])\n",
    "            comps[rightAngle][\"depthRange\"] = rightAngleDepthRange\n",
    "        if beauty in comps:\n",
    "            #if comps[beauty]['crop'][2] > 0:\n",
    "            #    printCrops(\"beauty\", comps[beauty]['crop'])\n",
    "\n",
    "            comps[beauty]['enableRefinement'] = boolean_value\n",
    "            comps[beauty]['crop'] = beautycropSettings\n",
    "            comps[beauty][\"refinementParameters\"] = changeRefinementParamentersBeauty(comps[beauty][\"refinementParameters\"])\n",
    "            comps[beauty][\"depthRange\"] = beautyAngleDepthRange\n",
    "\n",
    "            #print(comps[beauty][\"depthRange\"])\n",
    "\n",
    "        data['recordings'][i]['compositions'] = comps\n"
   ],
   "metadata": {
    "collapsed": false,
    "pycharm": {
     "name": "#%%\n"
    }
   }
  },
  {
   "cell_type": "code",
   "execution_count": 18,
   "outputs": [],
   "source": [
    "\n",
    "\n",
    "# create randomly named temporary file to avoid\n",
    "# interference with other thread/asynchronous request\n",
    "tempfile = os.path.join(os.path.dirname(filename), str(uuid.uuid4()))\n",
    "with open(tempfile, 'w') as f:\n",
    "    json.dump(data, f, indent=4)\n",
    "\n",
    "# rename temporary file replacing old file\n",
    "os.replace(tempfile, filename)\n"
   ],
   "metadata": {
    "collapsed": false,
    "pycharm": {
     "name": "#%%\n"
    }
   }
  }
 ],
 "metadata": {
  "kernelspec": {
   "name": "python3",
   "language": "python",
   "display_name": "Python 3"
  },
  "language_info": {
   "codemirror_mode": {
    "name": "ipython",
    "version": 2
   },
   "file_extension": ".py",
   "mimetype": "text/x-python",
   "name": "python",
   "nbconvert_exporter": "python",
   "pygments_lexer": "ipython2",
   "version": "2.7.6"
  },
  "pycharm": {
   "stem_cell": {
    "cell_type": "raw",
    "source": [
     "\n"
    ],
    "metadata": {
     "collapsed": false
    }
   }
  }
 },
 "nbformat": 4,
 "nbformat_minor": 0
}